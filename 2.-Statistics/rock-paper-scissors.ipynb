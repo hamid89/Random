{
 "cells": [
  {
   "cell_type": "markdown",
   "metadata": {},
   "source": [
    "<img src=\"https://bit.ly/2VnXWr2\" width=\"100\" align=\"left\">"
   ]
  },
  {
   "cell_type": "markdown",
   "metadata": {},
   "source": [
    "# Rock, Paper & Scissors\n",
    "\n",
    "Let's play the famous game against our computer. You can check the rules [here](https://en.wikipedia.org/wiki/Rock%E2%80%93paper%E2%80%93scissors). \n",
    "\n",
    "## Task\n",
    "Create a program that imitates the playability of the well known game of rock, paper, scissors. Follow the guidelines provided.\n",
    "\n",
    "## Tools\n",
    "1. Loop: **for/while**\n",
    "2. Functions: **input(), print()...**\n",
    "3. Conditional statements: **if, elif, else**\n",
    "4. Definition of functions. Modular programming\n",
    "5. Import modules\n",
    "\n",
    "**To solve this challenge, the use of functions is recommended.**\n",
    "\n",
    "#### 1. Import the choice function of the random module."
   ]
  },
  {
   "cell_type": "code",
   "execution_count": 45,
   "metadata": {},
   "outputs": [],
   "source": [
    "import random"
   ]
  },
  {
   "cell_type": "markdown",
   "metadata": {},
   "source": [
    "#### 2. Create a list that includes the 3 possible gesture options of the game: 'rock', 'paper' or 'scissors'. Store the list in a variable called `gestures`."
   ]
  },
  {
   "cell_type": "code",
   "execution_count": 46,
   "metadata": {},
   "outputs": [],
   "source": [
    "choices = ['rock','paper','scissors']"
   ]
  },
  {
   "cell_type": "markdown",
   "metadata": {},
   "source": [
    "#### 3. Create a variable called `n_rounds` to store the maximum number of rounds to play in a game. \n",
    "Remember that the number of rounds must be odd: 1, 3, 5, ..."
   ]
  },
  {
   "cell_type": "code",
   "execution_count": 47,
   "metadata": {},
   "outputs": [],
   "source": [
    "n_rounds = 7"
   ]
  },
  {
   "cell_type": "markdown",
   "metadata": {},
   "source": [
    "#### 4. Create a variable called `rounds_to_win` to store the number of rounds that a player must win to win the game.\n",
    "**Hint**: the value stored in `rounds_to_win` depends on the value of `n_rounds`. "
   ]
  },
  {
   "cell_type": "code",
   "execution_count": 48,
   "metadata": {},
   "outputs": [],
   "source": [
    "rounds_to_win = 4"
   ]
  },
  {
   "cell_type": "markdown",
   "metadata": {},
   "source": [
    "#### 5. Create two variables to store the number of rounds that the computer and the player have won. Call these variables `cpu_score` and `player_score`."
   ]
  },
  {
   "cell_type": "code",
   "execution_count": 49,
   "metadata": {},
   "outputs": [],
   "source": [
    "cpu_score = 0\n",
    "player_score = 0"
   ]
  },
  {
   "cell_type": "markdown",
   "metadata": {},
   "source": [
    "#### 6. Define a function that randomly returns one of the 3 gesture options.\n",
    "You will use this function to simulate the gesture choice of the computer. "
   ]
  },
  {
   "cell_type": "code",
   "execution_count": 50,
   "metadata": {},
   "outputs": [],
   "source": [
    "def randfunc(lis):\n",
    "    return random.choice(lis)\n"
   ]
  },
  {
   "cell_type": "markdown",
   "metadata": {},
   "source": [
    "#### 7. Define a function that asks the player which is the gesture he or she wants to show: 'rock', 'paper' or 'scissors'.\n",
    "The player should only be allowed to choose one of the 3 gesture options. If the player's choice is not rock, paper or scissors, keep asking until it is."
   ]
  },
  {
   "cell_type": "code",
   "execution_count": 51,
   "metadata": {},
   "outputs": [],
   "source": [
    "def userInput():\n",
    "    x = input('please select: rock/paper/scissors: ')\n",
    "    while True:\n",
    "                if x in choices:\n",
    "                       return x\n",
    "                else:\n",
    "                    print (\"Error - wrong input!\")\n",
    "                    x = input('please select: rock/paper/scissors: ')\n"
   ]
  },
  {
   "cell_type": "markdown",
   "metadata": {},
   "source": [
    "#### 8. Define a function that checks who won a round. \n",
    "The function should return 0 if there is a tie, 1 if the computer wins and 2 if the player wins."
   ]
  },
  {
   "cell_type": "code",
   "execution_count": 52,
   "metadata": {},
   "outputs": [],
   "source": [
    "def roundResult(val1,val2):\n",
    "    if(val1 == 'rock' and val2 == 'scissors'):\n",
    "          return 1\n",
    "    elif(val1 == 'paper' and val2 == 'rock'):\n",
    "          return 1\n",
    "    elif(val1 == 'scissors' and val2 == 'paper'):\n",
    "          return 1\n",
    "    elif(val2 == 'scissors' and val1 == 'paper'):\n",
    "          return 2\n",
    "    elif(val2 == 'paper' and val1 == 'rock'):\n",
    "          return 2\n",
    "    if(val2 == 'rock' and val1 == 'scissors'):\n",
    "          return 2\n",
    "    else:\n",
    "          return 0 \n"
   ]
  },
  {
   "cell_type": "markdown",
   "metadata": {},
   "source": [
    "#### 9. Define a function that prints the choice of the computer, the choice of the player and a message that announces who won the current round. \n",
    "You should also use this function to update the variables that count the number of rounds that the computer and the player have won. The score of the winner increases by one point. If there is a tie, the score does not increase."
   ]
  },
  {
   "cell_type": "code",
   "execution_count": 53,
   "metadata": {},
   "outputs": [],
   "source": [
    "def currentRound():\n",
    "    player_choice = userInput()\n",
    "    print('The choice of player is: '+player_choice)\n",
    "    cpu_choice = randfunc(choices)\n",
    "    print('The choice of CPU is: '+cpu_choice)\n",
    "    result = roundResult(cpu_choice,player_choice)\n",
    "    if(result == 1):\n",
    "        print('CPU wins')\n",
    "        return 1\n",
    "    elif(result == 2):\n",
    "        print('Player wins')\n",
    "        return 2\n",
    "    else:\n",
    "        print('Round is tied')\n",
    "        return 0\n",
    "    \n",
    "  "
   ]
  },
  {
   "cell_type": "markdown",
   "metadata": {},
   "source": [
    "#### 10. Now it's time to code the execution of the game using the functions and variables you defined above. \n",
    "\n",
    "First, create a loop structure that repeats while no player reaches the minimum score necessary to win and the number of rounds is less than the maximum number of rounds to play in a game.  \n",
    "\n",
    "Inside the loop, use the functions and variables above to create the execution of a round: ask for the player's choice, generate the random choice of the computer, show the round results, update the scores, etc. "
   ]
  },
  {
   "cell_type": "code",
   "execution_count": 54,
   "metadata": {},
   "outputs": [
    {
     "name": "stdout",
     "output_type": "stream",
     "text": [
      "please select: rock/paper/scissors: scissors\n",
      "The choice of player is: scissors\n",
      "The choice of CPU is: rock\n",
      "CPU wins\n",
      "please select: rock/paper/scissors: rock\n",
      "The choice of player is: rock\n",
      "The choice of CPU is: rock\n",
      "Round is tied\n",
      "please select: rock/paper/scissors: rock\n",
      "The choice of player is: rock\n",
      "The choice of CPU is: rock\n",
      "Round is tied\n",
      "please select: rock/paper/scissors: rock\n",
      "The choice of player is: rock\n",
      "The choice of CPU is: paper\n",
      "CPU wins\n",
      "please select: rock/paper/scissors: rock\n",
      "The choice of player is: rock\n",
      "The choice of CPU is: rock\n",
      "Round is tied\n",
      "please select: rock/paper/scissors: paper\n",
      "The choice of player is: paper\n",
      "The choice of CPU is: paper\n",
      "Round is tied\n",
      "please select: rock/paper/scissors: rock\n",
      "The choice of player is: rock\n",
      "The choice of CPU is: paper\n",
      "CPU wins\n"
     ]
    }
   ],
   "source": [
    "for i in range(0,n_rounds):\n",
    "    result = currentRound()\n",
    "    if(result == 1):\n",
    "        cpu_score += 1\n",
    "    elif(result == 2):\n",
    "        player_score += 1\n",
    "    \n",
    "    if(cpu_score >= rounds_to_win or player_score >= rounds_to_win):\n",
    "         break\n",
    "        \n",
    "    "
   ]
  },
  {
   "cell_type": "markdown",
   "metadata": {},
   "source": [
    "#### 11. Print the winner of the game based on who won more rounds.\n",
    "Remember that the game might be tied. "
   ]
  },
  {
   "cell_type": "code",
   "execution_count": 55,
   "metadata": {},
   "outputs": [
    {
     "name": "stdout",
     "output_type": "stream",
     "text": [
      "CPU wins the game with a score  3 - 0\n"
     ]
    }
   ],
   "source": [
    "if(cpu_score >= rounds_to_win):\n",
    "    print('CPU wins the game with a score ',cpu_score,'-',player_score)\n",
    "elif(player_score >= rounds_to_win):\n",
    "     print('Player wins the game with a score ',player_score,'-',cpu_score)\n",
    "elif(cpu_score > player_score):\n",
    "      print('CPU wins the game with a score ',cpu_score,'-',player_score)\n",
    "elif(player_score > cpu_score):\n",
    "      print('Player wins the game with a score ',player_score,'-',cpu_score)\n",
    "else:\n",
    "    print('Match is tied with a score ',player_score,'-',cpu_score)"
   ]
  },
  {
   "cell_type": "markdown",
   "metadata": {},
   "source": [
    "# Bonus: Rock, Paper, Scissors, Lizard & Spock\n",
    "![](images/rpsls.jpg)\n",
    "\n",
    "In this challenge, you need to improve the previous game by adding two new options. To know more about the rules of the improved version of rock, paper, scissors, check this [link](http://www.samkass.com/theories/RPSSL.html). \n",
    "\n",
    "In addition, you will also need to improve how the game interacts with the player: the number of rounds to play, which must be an odd number, will be requested to the user until a valid number is entered. Define a new function to make that request.\n",
    "\n",
    "**Hint**: Try to reuse the code that you already coded in the previous challenge. If your code is efficient, this bonus will only consist of simple modifications to the original game."
   ]
  },
  {
   "cell_type": "code",
   "execution_count": 56,
   "metadata": {},
   "outputs": [
    {
     "name": "stdout",
     "output_type": "stream",
     "text": [
      "please select: rock/paper/scissors/lizard/spock: spock\n",
      "The choice of player is: spock\n",
      "The choice of CPU is: lizard\n",
      "CPU wins\n",
      "please select: rock/paper/scissors/lizard/spock: lizard\n",
      "The choice of player is: lizard\n",
      "The choice of CPU is: paper\n",
      "Player wins\n",
      "please select: rock/paper/scissors/lizard/spock: paper\n",
      "The choice of player is: paper\n",
      "The choice of CPU is: scissors\n",
      "CPU wins\n",
      "please select: rock/paper/scissors/lizard/spock: scissors\n",
      "The choice of player is: scissors\n",
      "The choice of CPU is: paper\n",
      "Player wins\n",
      "please select: rock/paper/scissors/lizard/spock: paper\n",
      "The choice of player is: paper\n",
      "The choice of CPU is: paper\n",
      "Round is tied\n",
      "please select: rock/paper/scissors/lizard/spock: spock\n",
      "The choice of player is: spock\n",
      "The choice of CPU is: rock\n",
      "Player wins\n",
      "please select: rock/paper/scissors/lizard/spock: lizard\n",
      "The choice of player is: lizard\n",
      "The choice of CPU is: scissors\n",
      "CPU wins\n",
      "Match is tied with a score  3 - 3\n"
     ]
    }
   ],
   "source": [
    "import random\n",
    "choices = ['rock','paper','scissors','lizard','spock']\n",
    "n_rounds = 7\n",
    "rounds_to_win = 4\n",
    "cpu_score = 0\n",
    "player_score = 0\n",
    "def randfunc(lis):\n",
    "    return random.choice(lis)\n",
    "def userInput():\n",
    "    x = input('please select: rock/paper/scissors/lizard/spock: ')\n",
    "    while True:\n",
    "                if x in choices:\n",
    "                       return x\n",
    "                else:\n",
    "                    print (\"Error - wrong input!\")\n",
    "                    x = input('please select: rock/paper/scissors/lizard/spock: ')\n",
    "def roundResult(val1,val2):\n",
    "    if(val1 == 'rock' and val2 == 'scissors'):\n",
    "          return 1\n",
    "    elif(val1 == 'paper' and val2 == 'rock'):\n",
    "          return 1\n",
    "    elif(val1 == 'scissors' and val2 == 'paper'):\n",
    "          return 1\n",
    "    elif(val1 == 'lizard' and val2 == 'spock'):\n",
    "          return 1\n",
    "    elif(val1 == 'lizard' and val2 == 'paper'):\n",
    "          return 1\n",
    "    elif(val1 == 'rock' and val2 == 'lizard'):\n",
    "          return 1\n",
    "    elif(val1 == 'scissors' and val2 == 'lizard'):\n",
    "          return 1\n",
    "    elif(val1 == 'spock' and val2 == 'rock'):\n",
    "          return 1\n",
    "    elif(val1 == 'spock' and val2 == 'scissors'):\n",
    "          return 1\n",
    "    elif(val1 == 'paper' and val2 == 'spock'):\n",
    "          return 1\n",
    "    elif(val1 == 'lizard' and val2 == 'spock'):\n",
    "          return 1\n",
    "    elif(val2 == 'scissors' and val1 == 'paper'):\n",
    "          return 2\n",
    "    elif(val2 == 'paper' and val1 == 'rock'):\n",
    "          return 2\n",
    "    if(val2 == 'rock' and val1 == 'scissors'):\n",
    "          return 2\n",
    "    elif(val2 == 'lizard' and val1 == 'spock'):\n",
    "          return 2\n",
    "    elif(val2 == 'lizard' and val1 == 'paper'):\n",
    "          return 2\n",
    "    elif(val2 == 'rock' and val1 == 'lizard'):\n",
    "          return 2\n",
    "    elif(val2 == 'scissors' and val1 == 'lizard'):\n",
    "          return 2\n",
    "    elif(val2 == 'spock' and val1 == 'rock'):\n",
    "          return 2\n",
    "    elif(val2 == 'spock' and val1 == 'scissors'):\n",
    "          return 2\n",
    "    elif(val2 == 'paper' and val1 == 'spock'):\n",
    "          return 2\n",
    "    elif(val2 == 'lizard' and val1 == 'spock'):\n",
    "          return 2\n",
    "    \n",
    "    else:\n",
    "          return 0 \n",
    "\n",
    "def currentRound():\n",
    "    player_choice = userInput()\n",
    "    print('The choice of player is: '+player_choice)\n",
    "    cpu_choice = randfunc(choices)\n",
    "    print('The choice of CPU is: '+cpu_choice)\n",
    "    result = roundResult(cpu_choice,player_choice)\n",
    "    if(result == 1):\n",
    "        print('CPU wins')\n",
    "        return 1\n",
    "    elif(result == 2):\n",
    "        print('Player wins')\n",
    "        return 2\n",
    "    else:\n",
    "        print('Round is tied')\n",
    "        return 0\n",
    "for i in range(0,n_rounds):\n",
    "    result = currentRound()\n",
    "    if(result == 1):\n",
    "        cpu_score += 1\n",
    "    elif(result == 2):\n",
    "        player_score += 1\n",
    "    \n",
    "    if(cpu_score >= rounds_to_win or player_score >= rounds_to_win):\n",
    "         break    \n",
    "if(cpu_score >= rounds_to_win):\n",
    "    print('CPU wins the game with a score ',cpu_score,'-',player_score)\n",
    "elif(player_score >= rounds_to_win):\n",
    "     print('Player wins the game with a score ',player_score,'-',cpu_score)\n",
    "elif(cpu_score > player_score):\n",
    "      print('CPU wins the game with a score ',cpu_score,'-',player_score)\n",
    "elif(player_score > cpu_score):\n",
    "      print('Player wins the game with a score ',player_score,'-',cpu_score)\n",
    "else:\n",
    "    print('Match is tied with a score ',player_score,'-',cpu_score)  "
   ]
  },
  {
   "cell_type": "code",
   "execution_count": null,
   "metadata": {},
   "outputs": [],
   "source": []
  }
 ],
 "metadata": {
  "kernelspec": {
   "display_name": "Python 3",
   "language": "python",
   "name": "python3"
  },
  "language_info": {
   "codemirror_mode": {
    "name": "ipython",
    "version": 3
   },
   "file_extension": ".py",
   "mimetype": "text/x-python",
   "name": "python",
   "nbconvert_exporter": "python",
   "pygments_lexer": "ipython3",
   "version": "3.9.0"
  }
 },
 "nbformat": 4,
 "nbformat_minor": 2
}
